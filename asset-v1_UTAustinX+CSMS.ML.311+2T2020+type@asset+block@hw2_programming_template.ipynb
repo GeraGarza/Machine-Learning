{
 "cells": [
  {
   "cell_type": "code",
   "execution_count": 1,
   "metadata": {
    "colab": {},
    "colab_type": "code",
    "id": "1Rg2uSiFSRJe"
   },
   "outputs": [],
   "source": [
    "import numpy as np\n",
    "import matplotlib.pyplot as plt\n",
    "import math\n",
    "from sklearn.linear_model import LogisticRegression\n",
    "from sklearn.model_selection import train_test_split\n",
    "import seaborn as sns"
   ]
  },
  {
   "cell_type": "markdown",
   "metadata": {
    "colab_type": "text",
    "id": "oDTSO7-MSRJj"
   },
   "source": [
    "# Problem 1\n",
    "## Dataset Generation"
   ]
  },
  {
   "cell_type": "markdown",
   "metadata": {
    "colab_type": "text",
    "id": "Tx7KW28cSRJk"
   },
   "source": [
    "Write a function to **generate a training set** of size $m$\n",
    "- randomly generate a weight vector $w \\in \\mathbb{R}^{10}$, normalize length\n",
    "- generate a training set $\\{(x_i , y_i)\\}$ of size m\n",
    "  - $x_i$: random vector in $\\mathbb{R}^{10}$ from $\\textbf{N}(0, I)$\n",
    "  - $y_i$: $\\{0, +1\\}$ with $P[y = +1] = \\sigma(w \\cdot x_i)$ and $P[y = 0] = 1 - \\sigma(w \\cdot x_i)$"
   ]
  },
  {
   "cell_type": "code",
   "execution_count": 2,
   "metadata": {},
   "outputs": [],
   "source": [
    "def generate_weight():\n",
    "    mu, sigma = 0, 1 # mean and standard deviation\n",
    "    std = np.random.normal(mu, sigma, 10)\n",
    "    norm = np.linalg.norm(std)\n",
    "    return std/norm\n"
   ]
  },
  {
   "cell_type": "code",
   "execution_count": 3,
   "metadata": {},
   "outputs": [],
   "source": [
    "def random_vector():\n",
    "    mu, sigma = 0, 1\n",
    "    return np.random.normal(mu, sigma, 10)\n",
    "def sigmoid(x):\n",
    "    return 1 / (1 + math.exp(-x))"
   ]
  },
  {
   "cell_type": "code",
   "execution_count": 4,
   "metadata": {},
   "outputs": [],
   "source": [
    "def euclidean_norm_dist(w):\n",
    "    res = 0\n",
    "    for i in w:\n",
    "        res += (i ** 2)\n",
    "    return math.sqrt(res)"
   ]
  },
  {
   "cell_type": "code",
   "execution_count": 5,
   "metadata": {},
   "outputs": [],
   "source": [
    "def generate_data(m):\n",
    "    # returns the true w as well as X, Y data\n",
    "    \n",
    "    training_data = [random_vector() for _ in range(m)]\n",
    "    training_labels = []\n",
    "    \n",
    "    for xi in training_data:\n",
    "        x = np.dot(w,xi)\n",
    "        s = sigmoid(x)  \n",
    "        choice = np.random.choice([0,1], p=[1-s,s])\n",
    "        training_labels.append(choice)\n",
    "             \n",
    "    return np.array(training_data), np.array(training_labels)"
   ]
  },
  {
   "cell_type": "markdown",
   "metadata": {},
   "source": [
    "## Algorithm 1: logistic regression\n",
    "\n",
    "The goal is to learn $w$.  Algorithm 1 is logistic\n",
    "  regression (you may use the built-in method LogisticRegression for this. Use max_iter=1000)."
   ]
  },
  {
   "cell_type": "code",
   "execution_count": 6,
   "metadata": {},
   "outputs": [],
   "source": [
    "def logisticRegression(x, y):\n",
    "    model = LogisticRegression().fit(x, y)\n",
    "    return model.coef_"
   ]
  },
  {
   "cell_type": "markdown",
   "metadata": {
    "colab_type": "text",
    "id": "YzmNdy6ZSRJ3"
   },
   "source": [
    "## Algorithm 2: gradient descent with square loss\n",
    "\n",
    "Define square loss as\n",
    "$$L_i(w^{(t)}) = \\frac{1}{2} \\left( \\sigma(w^{(t)} \\cdot x) - y_i \\right)^2$$\n",
    "\n",
    "  Algorithm 2 is\n",
    "  gradient descent with respect to square loss (code this\n",
    "  up yourself -- run for 1000 iterations, use step size eta = 0.01)."
   ]
  },
  {
   "cell_type": "code",
   "execution_count": 7,
   "metadata": {},
   "outputs": [],
   "source": [
    "def square_loss(x, y):\n",
    "    inside = sigmoid(x) - y\n",
    "    outside = inside ** 2\n",
    "    return outside / 2"
   ]
  },
  {
   "cell_type": "code",
   "execution_count": 8,
   "metadata": {},
   "outputs": [],
   "source": [
    "def gradientDescent(x, y, w, m, learn_rate=0.01, n_iter=1000):\n",
    "    xTrans = x.transpose()\n",
    "    wTrans = w.transpose()\n",
    "    for i in range(n_iter):      \n",
    "        \n",
    "        sigmoid_input = np.dot(x, wTrans)\n",
    "        loss = [ square_loss(val, y[idx]) for idx, val in enumerate(sigmoid_input)]\n",
    "        \n",
    "        # avg gradient per data set\n",
    "        gradient = np.dot(xTrans, loss) / m\n",
    "        \n",
    "        # update\n",
    "        wTrans = wTrans - learn_rate * gradient\n",
    "    return wTrans"
   ]
  },
  {
   "cell_type": "markdown",
   "metadata": {},
   "source": [
    "## Algorithm 3: stochastic gradient descent with square loss\n",
    "Similar to gradient descent, except we use the gradient at a single random training point every iteration."
   ]
  },
  {
   "cell_type": "code",
   "execution_count": 9,
   "metadata": {},
   "outputs": [],
   "source": [
    "def stochasticGradientDescent(x, y, w, m, batch_size=10, learn_rate=0.01, n_iter=1000):\n",
    "    wTrans = w.transpose()\n",
    "    for i in range(n_iter):\n",
    "        \n",
    "        batchIdxs = np.random.randint(low=0, high=m, size=min(batch_size,m)) \n",
    "        \n",
    "        x_batch = np.array([x[i] for i in batchIdxs])\n",
    "        xTrans = x_batch.transpose()\n",
    "        y_batch = np.array([y[i] for i in batchIdxs])\n",
    "\n",
    "        sigmoid_input = np.dot(x_batch, wTrans)\n",
    "        loss = [ square_loss(val, y[idx]) for idx, val in enumerate(sigmoid_input)]\n",
    "\n",
    "        # avg gradient per data set\n",
    "        gradient = np.dot(xTrans, loss) / m\n",
    "\n",
    "        # update\n",
    "        wTrans = wTrans - learn_rate * gradient\n",
    "    return wTrans"
   ]
  },
  {
   "cell_type": "markdown",
   "metadata": {
    "colab_type": "text",
    "id": "5A-dLi3TSRJ-"
   },
   "source": [
    "## Evaluation\n",
    "\n",
    "Measure error $\\|w - \\hat{w}\\|_2$ for each method at different sample size. For any\n",
    "  fixed value of $m$, choose many different $w$'s and average the\n",
    "  values $\\|w - \n",
    "  \\hat{w}\\|_2$ for Algorithms 1, 2 and 3.  Plot the results\n",
    "  for for each algorithm as you make $m$ large (use $m=50, 100, 150, 200, 250$).\n",
    "  Also record, for each algorithm, the time taken to run the overall experiment."
   ]
  },
  {
   "cell_type": "code",
   "execution_count": 23,
   "metadata": {},
   "outputs": [],
   "source": [
    "ms = [50,100]\n",
    "lr_ws = []\n",
    "gd_ws = []\n",
    "sgd_ws = []\n",
    "\n",
    "w = generate_weight()\n",
    "\n",
    "for m in ms:\n",
    "    X, y = generate_data(m)\n",
    "\n",
    "    lr_prime = logisticRegression(X, y)\n",
    "    gd_prime = gradientDescent(X, y, w, m)\n",
    "    sdg_prime = stochasticGradientDescent(X, y, w, m, 10)\n",
    "    \n",
    "    lr_ws.append(np.linalg.norm(w-lr_prime))\n",
    "    gd_ws.append(np.linalg.norm(w-gd_prime))\n",
    "    sgd_ws.append(np.linalg.norm(w-sdg_prime))"
   ]
  },
  {
   "cell_type": "code",
   "execution_count": null,
   "metadata": {},
   "outputs": [],
   "source": []
  },
  {
   "cell_type": "code",
   "execution_count": 39,
   "metadata": {},
   "outputs": [
    {
     "data": {
      "image/png": "[encoded data removed]",
      "text/plain": [
       "<Figure size 432x288 with 1 Axes>"
      ]
     },
     "metadata": {
      "needs_background": "light"
     },
     "output_type": "display_data"
    }
   ],
   "source": [
    "sns.lineplot(x=ms, y=lr_ws, label=\"Logistic Regression\")\n",
    "sns.lineplot(x=ms, y=gd_ws, label=\"Gradient Descent\")\n",
    "sns.lineplot(x=ms, y=sgd_ws, label=\"SGD\").set(xlabel='m Size', ylabel='w\\'');"
   ]
  },
  {
   "cell_type": "markdown",
   "metadata": {},
   "source": [
    "# Problem 2"
   ]
  },
  {
   "cell_type": "code",
   "execution_count": null,
   "metadata": {},
   "outputs": [],
   "source": [
    "from sklearn import datasets"
   ]
  },
  {
   "cell_type": "code",
   "execution_count": null,
   "metadata": {},
   "outputs": [],
   "source": [
    "cancer = datasets.load_breast_cancer()"
   ]
  },
  {
   "cell_type": "markdown",
   "metadata": {},
   "source": [
    "For each depth in $1, \\dots, 5$, instantiate an AdaBoost classifier with the base learner set to be a decision tree of that depth (set `n_estimators=10` and `learning_rate=1`), and then record the 10-fold cross-validated error on the entire breast cancer data set. Plot the resulting curve of accuracy against base classifier depth. Use $101$ as your random state for both the base learner as well as the AdaBoost classifier every time."
   ]
  },
  {
   "cell_type": "code",
   "execution_count": null,
   "metadata": {},
   "outputs": [],
   "source": []
  }
 ],
 "metadata": {
  "colab": {
   "name": "hw2_programming_sol.ipynb",
   "provenance": [],
   "version": "0.3.2"
  },
  "kernelspec": {
   "display_name": "Python 3",
   "language": "python",
   "name": "python3"
  },
  "language_info": {
   "codemirror_mode": {
    "name": "ipython",
    "version": 3
   },
   "file_extension": ".py",
   "mimetype": "text/x-python",
   "name": "python",
   "nbconvert_exporter": "python",
   "pygments_lexer": "ipython3",
   "version": "3.8.10"
  }
 },
 "nbformat": 4,
 "nbformat_minor": 1
}
